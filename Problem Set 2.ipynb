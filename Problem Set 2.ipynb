{
 "cells": [
  {
   "cell_type": "markdown",
   "metadata": {},
   "source": [
    "# Problem Set 2\n",
    "            = Abhishek Chandrasekaeran, 200495200"
   ]
  },
  {
   "cell_type": "markdown",
   "metadata": {},
   "source": [
    "### Question 1\n",
    "    Consider the following Python module:\n",
    "    \n",
    "    a = 0\n",
    "    \n",
    "    def b():\n",
    "        global a\n",
    "        a = c(a)\n",
    "    def c(a):\n",
    "        return a + 2\n",
    "        \n",
    "    After importing the module into the interpreter, you execute:\n",
    "    \n",
    "        >>> b()\n",
    "        >>> b()\n",
    "        >>> b()\n",
    "        >>> a\n",
    "        ?\n",
    "    \n",
    "    What value is displayed when the last expression (a) is evaluated? \n",
    "    Explain your answer by indicating what happens in every executed statement"
   ]
  },
  {
   "cell_type": "markdown",
   "metadata": {},
   "source": [
    "### Solution:\n",
    "\n",
    "Global variable a is initialised as 0 first. Inside the method b(), the global variable is accessed. Then it is passed as input parameter to the method c(). The method c() adds 2 to the input parameter that we pass to it and returns the sum. So at the end of method b(), the global variable a is increased by 2.\n",
    "\n",
    "    >>> b() -> global variable a becomes 2. Before calling the method it was 0.\n",
    "    >>> b() -> global variable a becomes 4. Before calling the method it was 2.\n",
    "    >>> b() -> global variable a becomes 6. Before calling the method it was 4.\n",
    "    >>> a -> prints the value of variable as 6.\n"
   ]
  },
  {
   "cell_type": "markdown",
   "metadata": {},
   "source": [
    "### Question 2\n",
    "\n",
    "    Function fileLength(), given to you, takes the name of a file as input and returns \n",
    "    the length of the file:\n",
    "    \n",
    "    >>> fileLength('midterm.py')\n",
    "    284\n",
    "    >>> fileLength('idterm.py')\n",
    "    Traceback (most recent call last):\n",
    "      File \"<pyshell#34>\", line 1, in <module>\n",
    "         fileLength('idterm.py')\n",
    "      File \"/Users/me/midterm.py\", line 3, in fileLength\n",
    "         infile = open(filename)\n",
    "    FileNotFoundError: [Errno 2] No such file or directory: 'idterm.py'\n",
    "    \n",
    "    As shown above, if the file cannot be found by the interpreter or if it cannot be read as a text file, an exception will be raised. Modify function fileLength() so that a friendly message is printed instead:\n",
    "    \n",
    "    >>> fileLength('midterm.py')\n",
    "    358\n",
    "    >>> fileLength('idterm.py')\n",
    "    File idterm.py not found."
   ]
  },
  {
   "cell_type": "code",
   "execution_count": 1,
   "metadata": {},
   "outputs": [],
   "source": [
    "### Solution:\n",
    "\n",
    "\n",
    "def file_length(file_name):\n",
    "    error_flag = False\n",
    "    try:\n",
    "        file = open(file_name)\n",
    "        contents = file.read()\n",
    "        file.close()\n",
    "    except:\n",
    "        error_flag = True\n",
    "    if(error_flag == False):\n",
    "        print(len(contents))\n",
    "    else:\n",
    "        print(\"File \"+ file_name + \" is not found.\")"
   ]
  },
  {
   "cell_type": "markdown",
   "metadata": {},
   "source": [
    "### Question 3\n",
    "\n",
    "    Write a class named Marsupial that can be used as shown below:\n",
    "    \n",
    "    >>> m = Marsupial()\n",
    "    >>> m.put_in_pouch('doll')\n",
    "    >>> m.put_in_pouch('firetruck')\n",
    "    >>> m.put_in_pouch('kitten')\n",
    "    >>> m.pouch_contents()\n",
    "    ['doll', 'firetruck', 'kitten']\n",
    "    \n",
    "    Now write a class named Kangaroo as a subclass of Marsupial that inherits all the \n",
    "    attributes of Marsupial and also:\n",
    "        a. extends the Marsupial __init__ constructor to take, as input, the coordinates x and y of the Kangaroo object,\n",
    "        b. supports method jump that takes number values dx and dy as input and moves the kangaroo by dx units along the x-axis and by dy units along the y\u0002axis, and\n",
    "        c. overloads the __str__ operator so it behaves as shown below.\n",
    "        \n",
    "    >>> k = Kangaroo(0,0)\n",
    "    >>> print(k)\n",
    "    I am a Kangaroo located at coordinates (0,0)\n",
    "    >>> k.put_in_pouch('doll')\n",
    "    >>> k.put_in_pouch('firetruck')\n",
    "    >>> k.put_in_pouch('kitten')\n",
    "    >>> k.pouch_contents()\n",
    "    ['doll', 'firetruck', 'kitten']\n",
    "    >>> k.jump(1,0)\n",
    "    >>> k.jump(1,0)\n",
    "    >>> k.jump(1,0)\n",
    "    >>> print(k)\n",
    "    I am a Kangaroo located at coordinates (3,0)\n"
   ]
  },
  {
   "cell_type": "code",
   "execution_count": 2,
   "metadata": {},
   "outputs": [
    {
     "name": "stdout",
     "output_type": "stream",
     "text": [
      "['doll', 'firetruck', 'kitten']\n",
      "I am a Kangaroo located at coordinates (0,0)\n",
      "I am a Kangaroo located at coordinates (3,0)\n"
     ]
    }
   ],
   "source": [
    "### Solution:\n",
    "\n",
    "\n",
    "class Marsupial:\n",
    "    def __init__(self):\n",
    "        self.lst_marsupial = []\n",
    "    def put_in_pouch(self,data):\n",
    "        self.lst_marsupial.append(data)\n",
    "    def pouch_contents(self):\n",
    "        print(self.lst_marsupial)\n",
    "\n",
    "class Kangaroo(Marsupial):\n",
    "    x = 0\n",
    "    y = 0\n",
    "    def __init__(self,x,y):\n",
    "        self.x = x\n",
    "        self.y = y\n",
    "    def jump(self,dx,dy):\n",
    "        self.x = self.x + dx\n",
    "        self.y = self.y + dy\n",
    "    def __str__(self):\n",
    "        return \"I am a Kangaroo located at coordinates (\"+str(self.x)+\",\"+str(self.y)+\")\"\n",
    "\n",
    "m = Marsupial()\n",
    "m.put_in_pouch('doll')\n",
    "m.put_in_pouch('firetruck')\n",
    "m.put_in_pouch('kitten')\n",
    "m.pouch_contents()\n",
    "k = Kangaroo(0,0)\n",
    "print(k)\n",
    "k.jump(1,0)\n",
    "k.jump(1,0)\n",
    "k.jump(1,0)\n",
    "print(k)"
   ]
  },
  {
   "cell_type": "markdown",
   "metadata": {},
   "source": [
    "### Question 4\n",
    "\n",
    "    Write function collatz() that takes a positive integer x as input and prints the Collatz sequence starting at x. A Collatz sequence is obtained by repeatedly applying this rule to the previous number x in the sequence:\n",
    "    \n",
    "    x = {  𝑥/2      𝑖𝑓 𝑥 𝑖𝑠 𝑒𝑣𝑒𝑛\n",
    "           3𝑥 + 1   𝑖𝑓 𝑥 𝑖𝑠 𝑜𝑑𝑑\n",
    "            \n",
    "    Your function should stop when the sequence gets to number 1. Your implementation must be recursive, without any loops.\n",
    "\n",
    "    >>> collatz(1)\n",
    "    1\n",
    "    >>> collatz(10)\n",
    "    10\n",
    "    5\n",
    "    16\n",
    "    8\n",
    "    4\n",
    "    2\n",
    "    1"
   ]
  },
  {
   "cell_type": "code",
   "execution_count": 3,
   "metadata": {},
   "outputs": [],
   "source": [
    "### Solution:\n",
    "\n",
    "\n",
    "def collatz(a):\n",
    "    print(a)\n",
    "    if(a==1):\n",
    "        return 1\n",
    "    else:\n",
    "        if (a%2==0):\n",
    "            a=a//2\n",
    "        else:\n",
    "            if (a > 1):\n",
    "                a=((3*a)+1)\n",
    "        return collatz(a)"
   ]
  },
  {
   "cell_type": "markdown",
   "metadata": {},
   "source": [
    "### Question 5\n",
    "\n",
    "    Write a recursive method binary() that takes a non-negative integer n and prints the binary representation of integer n.\n",
    "    \n",
    "    >>> binary(0)\n",
    "    0\n",
    "    >>> binary(1)\n",
    "    1\n",
    "    >>> binary(3)\n",
    "    11\n",
    "    >>> binary(9)\n",
    "    1001"
   ]
  },
  {
   "cell_type": "code",
   "execution_count": 4,
   "metadata": {},
   "outputs": [
    {
     "name": "stdout",
     "output_type": "stream",
     "text": [
      "0\n",
      "1\n",
      "0\n",
      "0\n",
      "1\n"
     ]
    }
   ],
   "source": [
    "### Solution:\n",
    "\n",
    "\n",
    "def binary(a):\n",
    "    if a >= 1:\n",
    "        binary(a // 2)\n",
    "    print(a % 2)\n",
    "    \n",
    "binary(9)"
   ]
  },
  {
   "cell_type": "markdown",
   "metadata": {},
   "source": [
    "### Question 6\n",
    "\n",
    "    Implement a class named HeadingParser that can be used to parse an HTML document, and retrieve and print all the headings in the document. You should implement your class as a subclass of HTMLParser, defined in Standard Library module html.parser. When feda string containing HTML code, your class should print the headings, one per line and in the order in which they appear in the document. Each heading should be indented as follows: an h1 heading should have indentation 0, and h2 heading should have indentation 1, etc. Test your implementation using w3c.html.\n",
    "\n",
    "    >>> infile = open('w3c.html')\n",
    "    >>> content = infile.read()\n",
    "    >>> infile.close()\n",
    "    >>> hp = HeadingParser()\n",
    "    >>> hp.feed(content)\n",
    "    W3C Mission\n",
    "    Principles"
   ]
  },
  {
   "cell_type": "code",
   "execution_count": 5,
   "metadata": {},
   "outputs": [
    {
     "name": "stdout",
     "output_type": "stream",
     "text": [
      "W3C Mission\n",
      " Principles\n"
     ]
    }
   ],
   "source": [
    "### Solution:\n",
    "\n",
    "\n",
    "from html.parser import HTMLParser\n",
    "\n",
    "class HeadingParser(HTMLParser):\n",
    "    def __init__(self):\n",
    "    #Since Python 3, we need to call the __init__() function of the parent class\n",
    "        super().__init__()\n",
    "        #self.reset()\n",
    "        self.start_tags = []\n",
    "        self.end_tags = []\n",
    "        self.all_data = []\n",
    "\n",
    "    def handle_starttag(self, tag, attrs):\n",
    "        #print(\"start tag = \" + tag)\n",
    "        self.start_tags.append(tag)\n",
    "        \n",
    "    def handle_endtag(self,tag):\n",
    "        #print(\"end tag = \" + tag)\n",
    "        self.end_tags.append(tag)\n",
    "    \n",
    "    def handle_data(self, data):\n",
    "        #print(\"data = \" + data)\n",
    "        data_trimmed = data.strip()\n",
    "        if data_trimmed != \"\":    \n",
    "            self.all_data.append(data)\n",
    "            len_lst_all_data = len(self.all_data)\n",
    "            len_lst_start_tag = len(self.start_tags)\n",
    "            if len_lst_all_data > 0 and len_lst_start_tag > 0:\n",
    "                prev_index_all_data = len_lst_all_data - 1\n",
    "                pre_index_start_tag = len_lst_start_tag - 1\n",
    "                str_tag = self.start_tags[pre_index_start_tag]\n",
    "                str_data = self.all_data[prev_index_all_data]\n",
    "                if str_tag.lower() == \"h1\":\n",
    "                    print(str_data)\n",
    "                elif str_tag.lower() == \"h2\":\n",
    "                    print(\" \"+str_data)\n",
    "                elif str_tag.lower() == \"h3\":\n",
    "                    print(\"  \"+str_data)\n",
    "                elif str_tag.lower() == \"h4\":\n",
    "                    print(\"   \"+str_data)\n",
    "                elif str_tag.lower() == \"h5\":\n",
    "                    print(\"    \"+str_data)\n",
    "                elif str_tag.lower() == \"h6\":\n",
    "                    print(\"     \"+str_data)\n",
    "\n",
    "\n",
    "infile = open(\"C:\\\\Users\\\\chenn\\\\Downloads\\\\w3c.txt\")\n",
    "content = infile.read()\n",
    "infile.close()\n",
    "hp = HeadingParser()\n",
    "hp.feed(content)"
   ]
  },
  {
   "cell_type": "markdown",
   "metadata": {},
   "source": [
    "### Question 8\n",
    "\n",
    "    Write SQL queries on the below database table that return: \n",
    "    a) All the temperature data.\n",
    "    b) All the cities, but without repetition.\n",
    "    c) All the records for India.\n",
    "    d) All the Fall records.\n",
    "    e) The city, country, and season for which the average rainfall is between 200 and 400 millimeters.\n",
    "    f) The city and country for which the average Fall temperature is above 20 degrees, in increasing temperature order.\n",
    "    g) The total annual rainfall for Cairo.\n",
    "    h) The total rainfall for each season."
   ]
  },
  {
   "cell_type": "markdown",
   "metadata": {},
   "source": [
    "### Solution:\n",
    "\n",
    "    \n",
    "    a. select Temperature from Table2;\n",
    "    b. select DISTINCT(City) from Table2;\n",
    "    c. select * from Table2 where Country = 'India'\n",
    "    d. select * from Table2 where Season = 'Fall'\n",
    "    e. SELECT City,Country,Season FROM Table2 WHERE Rainfall BETWEEN 200 AND 400;\n",
    "    f. SELECT City,Country FROM Table2 WHERE Temperature > 20 order by Temperature;\n",
    "    g. SELECT SUM(Rainfall) from Table2 Group By City Having City = 'Cairo'\n",
    "    h. SELECT SUM(Rainfall),Season from Table2 Group By Season"
   ]
  },
  {
   "cell_type": "markdown",
   "metadata": {},
   "source": [
    "### Question 9\n",
    "    . Suppose list words is defined as follows:\n",
    "    >>> words = ['The', 'quick', 'brown', 'fox', 'jumps', 'over', \n",
    "    'the', 'lazy', 'dog']\n",
    "    Write list comprehension expressions that use list words and generate the following \n",
    "    lists:\n",
    "        a) ['THE', 'QUICK', 'BROWN', 'FOX', 'JUMPS', 'OVER', 'THE', 'LAZY', 'DOG']\n",
    "        b) ['the', 'quick', 'brown', 'fox', 'jumps', 'over', 'the', 'lazy', 'dog']\n",
    "        c) [3, 5, 5, 3, 5, 4, 3, 4, 3] (the list of lengths of words in list words).\n",
    "        d) [['THE', 'the', 3], ['QUICK', 'quick', 5], ['BROWN', 'brown', 5], ['FOX', 'fox', 3], ['JUMPS', 'jumps', 5],           ['OVER', 'over', 4], ['THE', 'the', 3], ['LAZY', 'lazy', 4], ['DOG', 'dog', 3]] (the list containing a list for every   word of list words, where each list contains the word in uppercase and lowercase and the length of the word.)\n",
    "        e) ['The', 'quick', 'brown', 'fox', 'jumps', 'over', 'the', 'lazy', 'dog'] (the list of words in list words         containing 4 or more characters."
   ]
  },
  {
   "cell_type": "code",
   "execution_count": 6,
   "metadata": {},
   "outputs": [
    {
     "name": "stdout",
     "output_type": "stream",
     "text": [
      "['THE', 'QUICK', 'BROWN', 'FOX', 'JUMPS', 'OVER', 'THE', 'LAZY', 'DOG']\n",
      "['the', 'quick', 'brown', 'fox', 'jumps', 'over', 'the', 'lazy', 'dog']\n",
      "[3, 5, 5, 3, 5, 4, 3, 4, 3]\n",
      "[['THE', 'the', 3], ['QUICK', 'quick', 5], ['BROWN', 'brown', 5], ['FOX', 'fox', 3], ['JUMPS', 'jumps', 5], ['OVER', 'over', 4], ['THE', 'the', 3], ['LAZY', 'lazy', 4], ['DOG', 'dog', 3]]\n",
      "['quick', 'brown', 'jumps', 'over', 'lazy']\n"
     ]
    }
   ],
   "source": [
    "### Solution:\n",
    "\n",
    "\n",
    "words = ['The', 'quick', 'brown', 'fox', 'jumps', 'over', 'the', 'lazy', 'dog']\n",
    "lst_question_a = [x.upper() for x in words]\n",
    "lst_question_b = [x.lower() for x in words]\n",
    "lst_question_c = [len(x) for x in words]\n",
    "lst_question_d = [[x.upper(),x.lower(),len(x)] for x in words]\n",
    "lst_question_e = [x for x in words if len(x) > 3]\n",
    "\n",
    "print(lst_question_a)\n",
    "print(lst_question_b)\n",
    "print(lst_question_c)\n",
    "print(lst_question_d)\n",
    "print(lst_question_e)"
   ]
  }
 ],
 "metadata": {
  "kernelspec": {
   "display_name": "Python 3",
   "language": "python",
   "name": "python3"
  },
  "language_info": {
   "codemirror_mode": {
    "name": "ipython",
    "version": 3
   },
   "file_extension": ".py",
   "mimetype": "text/x-python",
   "name": "python",
   "nbconvert_exporter": "python",
   "pygments_lexer": "ipython3",
   "version": "3.8.3"
  }
 },
 "nbformat": 4,
 "nbformat_minor": 4
}
